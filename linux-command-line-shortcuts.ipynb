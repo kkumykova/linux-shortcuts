{
 "cells": [
  {
   "cell_type": "markdown",
   "metadata": {},
   "source": [
    "# Working with Files"
   ]
  },
  {
   "cell_type": "markdown",
   "metadata": {},
   "source": [
    "## Copy or move a file from a folder to desktop\n",
    "\n",
    "Desktop is a directory in your user's home directory. To copy some file there, you can run\n",
    "\n",
    "<b>cp file ~/Desktop</b>\n",
    "\n",
    "~ stands for /home/<username> "
   ]
  },
  {
   "cell_type": "markdown",
   "metadata": {},
   "source": [
    "## Open a file from terminal\n",
    "\n",
    "<b>xdg-open file2open.xxx</b>\n",
    "\n",
    "\n",
    "xdg-open opens a file or URL in the user's preferred application.\n",
    "\n",
    "If a URL is provided the URL will be opened in the user's preferred web browser. If a file is provided the file will be opened in the preferred application for files of that type. xdg-open supports file, ftp, http and https URLs.\n",
    "\n",
    "xdg-open is for use inside a desktop session only. It is not recommended to use xdg-open as root. "
   ]
  },
  {
   "cell_type": "markdown",
   "metadata": {},
   "source": [
    "# Delete Text on the Command Line\n",
    "\n",
    "<b>Ctrl+K</b> – removes all text from the cursor to the end of the line.\n",
    "\n",
    "<b>Ctrl+W</b> is the standard \"kill word\". It deletes a word backward.\n",
    "\n",
    "<b>Alt+Backspace</b> does the same. "
   ]
  }
 ],
 "metadata": {
  "kernelspec": {
   "display_name": "Python 3",
   "language": "python",
   "name": "python3"
  },
  "language_info": {
   "codemirror_mode": {
    "name": "ipython",
    "version": 3
   },
   "file_extension": ".py",
   "mimetype": "text/x-python",
   "name": "python",
   "nbconvert_exporter": "python",
   "pygments_lexer": "ipython3",
   "version": "3.8.10"
  }
 },
 "nbformat": 4,
 "nbformat_minor": 4
}
