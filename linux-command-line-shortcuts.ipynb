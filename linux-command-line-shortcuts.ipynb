{
 "cells": [
  {
   "cell_type": "markdown",
   "metadata": {},
   "source": [
    "# Working with Files\n",
    "\n",
    "\n",
    "\n",
    "## How to copy or move a file from a folder to desktop?\n",
    "\n",
    "Desktop is a directory in your user's home directory. To copy some file there, you can run\n",
    "\n",
    "<b>cp file ~/Desktop</b>\n",
    "\n",
    "~ stands for /home/<username>"
   ]
  },
  {
   "cell_type": "markdown",
   "metadata": {},
   "source": [
    "# Delete Text on the Command Line\n",
    "\n",
    "<b>Ctrl+K</b> – removes all text from the cursor to the end of the line.\n",
    "\n",
    "<b>Ctrl+W</b> is the standard \"kill word\". It deletes a word backward.\n",
    "\n",
    "<b>Alt+Backspace</b> does the same. "
   ]
  }
 ],
 "metadata": {
  "kernelspec": {
   "display_name": "Python 3",
   "language": "python",
   "name": "python3"
  },
  "language_info": {
   "codemirror_mode": {
    "name": "ipython",
    "version": 3
   },
   "file_extension": ".py",
   "mimetype": "text/x-python",
   "name": "python",
   "nbconvert_exporter": "python",
   "pygments_lexer": "ipython3",
   "version": "3.8.10"
  }
 },
 "nbformat": 4,
 "nbformat_minor": 4
}
